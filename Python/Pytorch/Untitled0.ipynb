{
  "nbformat": 4,
  "nbformat_minor": 0,
  "metadata": {
    "colab": {
      "name": "Untitled0.ipynb",
      "provenance": [],
      "include_colab_link": true
    },
    "kernelspec": {
      "name": "python3",
      "display_name": "Python 3"
    }
  },
  "cells": [
    {
      "cell_type": "markdown",
      "metadata": {
        "id": "view-in-github",
        "colab_type": "text"
      },
      "source": [
        "<a href=\"https://colab.research.google.com/github/SireneNova/Portfolio/blob/master/Python/Pytorch/Untitled0.ipynb\" target=\"_parent\"><img src=\"https://colab.research.google.com/assets/colab-badge.svg\" alt=\"Open In Colab\"/></a>"
      ]
    },
    {
      "cell_type": "code",
      "metadata": {
        "id": "b6wY2eJGr_Y9",
        "colab_type": "code",
        "colab": {
          "base_uri": "https://localhost:8080/",
          "height": 136
        },
        "outputId": "e1413259-a958-4fca-cae4-7e49694fad67"
      },
      "source": [
        "import numpy as np\n",
        "import pandas as pd\n",
        "import torch\n",
        "\n",
        "n = 2\n",
        "n=np.exp(n)\n",
        "print(n)\n",
        "\n",
        "\n",
        "# initialize list of lists \n",
        "data = [['tom', 10], ['nick', 15], ['juli', 14]] \n",
        "  \n",
        "# Create the pandas DataFrame \n",
        "df = pd.DataFrame(data, columns = ['Name', 'Age']) \n",
        "  \n",
        "# print dataframe. \n",
        "print(df )\n",
        "\n",
        "def activation(x):\n",
        "  return 1/(1+torch.exp(-x))\n",
        "\n",
        "t = torch.Tensor([[1, 2, 3], [4, 5, 6]])\n",
        "\n",
        "print(activation(t))"
      ],
      "execution_count": null,
      "outputs": [
        {
          "output_type": "stream",
          "text": [
            "7.38905609893065\n",
            "   Name  Age\n",
            "0   tom   10\n",
            "1  nick   15\n",
            "2  juli   14\n",
            "tensor([[0.7311, 0.8808, 0.9526],\n",
            "        [0.9820, 0.9933, 0.9975]])\n"
          ],
          "name": "stdout"
        }
      ]
    }
  ]
}